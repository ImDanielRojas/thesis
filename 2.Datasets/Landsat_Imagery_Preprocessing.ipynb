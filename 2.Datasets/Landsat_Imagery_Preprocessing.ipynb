{
  "nbformat": 4,
  "nbformat_minor": 0,
  "metadata": {
    "colab": {
      "name": "Landsat Imagery Preprocessing.ipynb",
      "provenance": []
    },
    "kernelspec": {
      "name": "python3",
      "display_name": "Python 3"
    }
  },
  "cells": [
    {
      "cell_type": "markdown",
      "metadata": {
        "id": "0vL72mOL8oTd"
      },
      "source": [
        "# Landsat Imagery Preprocessing: Clip raster and fill gaps"
      ]
    },
    {
      "cell_type": "code",
      "metadata": {
        "id": "fhIUnKCO8mhs"
      },
      "source": [
        "import numpy as np\r\n",
        "import math\r\n",
        "import scipy\r\n",
        "import pandas as pd\r\n",
        "import PIL\r\n",
        "import gdal\r\n",
        "import matplotlib.pyplot as plt\r\n",
        "plt.style.use('ggplot')\r\n",
        "import sys, os\r\n",
        "from pathlib import Path\r\n",
        "import time\r\n",
        "import random\r\n",
        "import collections, functools, operator\r\n",
        "import csv\r\n",
        "import subprocess\r\n",
        "import datetime\r\n",
        "\r\n",
        "from osgeo import gdal,osr\r\n",
        "from gdalconst import *\r\n",
        "import subprocess\r\n",
        "from osgeo.gdalconst import GA_Update"
      ],
      "execution_count": null,
      "outputs": []
    },
    {
      "cell_type": "markdown",
      "metadata": {
        "id": "Ty7gcbQK9Jc2"
      },
      "source": [
        "## Clip raster function"
      ]
    },
    {
      "cell_type": "code",
      "metadata": {
        "id": "rbkYSoDU9HAZ"
      },
      "source": [
        "#=============================[ CLIP RASTER ]=================================#\r\n",
        "\r\n",
        "#Clips a selected input raster to have the exact same projection, extent, and resolution as another\r\n",
        "# USAGE: python clip_to_raster.py src clipsrc dst\r\n",
        "# INPUTS: src - the raster to reproject\r\n",
        "#         clipsrc - the raster to match\r\n",
        "# OUTPUT: dst - the output file\r\n",
        "\r\n",
        "\r\n",
        "# Important: If the pixels in src and clipsrc do not line up exactly, the pixels in SRS will be resampled\r\n",
        "# To preserve the extents, even if they have the exact same resolution\r\n",
        "\r\n",
        "def clipRaster(src, clipsrc, dst):\r\n",
        "    # Parameters\r\n",
        "    resampleOptions = ('average','near','bilinear','cubic','cubicspline','lanczos','mode','max','min','med','Q1','Q3')\r\n",
        "    resample = 'cubic'\r\n",
        "    tr = ''\r\n",
        "    ts = ''\r\n",
        "    dstnodata = ''\r\n",
        "    overwrite = False\r\n",
        "\r\n",
        "\r\n",
        "    # Test if there is a problem opening the input data\r\n",
        "    ds1 = gdal.Open(src, GA_ReadOnly)\r\n",
        "    if ds1 is None:\r\n",
        "        print('Could not open ' + src)\r\n",
        "        sys.exit(1)\r\n",
        "        \r\n",
        "    ds2 = gdal.Open(clipsrc, GA_ReadOnly)\r\n",
        "    if ds2 is None:\r\n",
        "        print ('Could not open ' + clipsrc)\r\n",
        "        sys.exit(1)\r\n",
        "        \r\n",
        "    # Read the georeferecing info on the raster_to_match\r\n",
        "    transform1 = ds1.GetGeoTransform()\r\n",
        "    transform2 = ds2.GetGeoTransform()\r\n",
        "    wkt = ds2.GetProjection()\r\n",
        "    rows = ds2.RasterYSize\r\n",
        "    cols = ds2.RasterXSize\r\n",
        "\r\n",
        "    pixelWidth = transform1[1]\r\n",
        "    pixelHeight = transform1[5]\r\n",
        "\r\n",
        "    minX = transform2[0]\r\n",
        "    maxY = transform2[3]\r\n",
        "    maxX = minX + (cols * pixelWidth)\r\n",
        "    minY = maxY + (rows * pixelHeight)\r\n",
        "\r\n",
        "    srs = osr.SpatialReference()\r\n",
        "    srs.ImportFromWkt(wkt)\r\n",
        "    proj4 = srs.ExportToProj4()\r\n",
        "        \r\n",
        "    # Build Warp Options for gdalwarp based on the program inputs\r\n",
        "    warpOptions = gdal.WarpOptions(format='GTiff', xRes=pixelWidth, yRes=pixelHeight,\r\n",
        "                    srcNodata=0, dstNodata='nan', width=0, height=0, outputBounds=[minX, minY, maxX, maxY],\r\n",
        "                    resampleAlg=resample, multithread=True, dstSRS=proj4, cropToCutline=True)\r\n",
        "\r\n",
        "    # Reproject the input_raster to match the raster_to_match\r\n",
        "    outBand = gdal.Warp(dst, src, options=warpOptions)\r\n",
        "    outBand = None"
      ],
      "execution_count": null,
      "outputs": []
    },
    {
      "cell_type": "markdown",
      "metadata": {
        "id": "s2NYe1mZ97QF"
      },
      "source": [
        "## Examples with data from USGS"
      ]
    },
    {
      "cell_type": "code",
      "metadata": {
        "id": "oooMHGe48ydF"
      },
      "source": [
        "listdir_src = os.getcwd() + '/drive/My Drive/TFG/Ciudad Real/test/EO-1 ALI/'\r\n",
        "listdir_src = [os.path.join(listdir_src, f) for f in sorted(os.listdir(listdir_src))]\r\n",
        "clipsrc = os.getcwd() + '/drive/My Drive/TFG/Ciudad Real/test/EO-1 Hyperion/'\r\n",
        "clipsrc = os.getcwd() + '/drive/My Drive/TFG/Ciudad Real/test/EO-1 Hyperion/' + os.listdir(clipsrc)[0]\r\n",
        "for src in listdir_src:\r\n",
        "    clipRaster(src, clipsrc, src)\r\n",
        "\r\n",
        "\r\n",
        "# Directories\r\n",
        "listdir_src = os.getcwd() + '/drive/My Drive/TFG/Karnataka_20scenes/Landsat 7/'\r\n",
        "listdir_dst = os.getcwd() + '/drive/My Drive/TFG/Karnataka_20scenes/Landsat 7 Processed/'\r\n",
        "\r\n",
        "listdir_dst = [os.path.join(listdir_dst, f) for f in sorted(os.listdir(listdir_src))]\r\n",
        "listdir_src = [os.path.join(listdir_src, f) for f in sorted(os.listdir(listdir_src))]\r\n",
        "\r\n",
        "listfile_clipsrc = os.getcwd() + '/drive/My Drive/TFG/Karnataka_20scenes/EO-1 Hyperion/'\r\n",
        "listfile_clipsrc = [os.path.join(listfile_clipsrc, f) for f in sorted(os.listdir(listfile_clipsrc))]\r\n",
        "listfile_clipsrc = [f + '/' + f.split('/')[-1][:-5] + '/' + f.split('/')[-1][:-4]+'B008_L1GST.TIF' for f in listfile_clipsrc]\r\n",
        "\r\n",
        "\r\n",
        "driver = gdal.GetDriverByName('GTiff')\r\n",
        "\r\n",
        "\r\n",
        "\r\n",
        "#=============[ PROCESSING OF EACH BAND: fill gaps & cropping ]================#\r\n",
        "#FOR USGS\r\n",
        "for dir_src, file_clipsrc, dir_dst in zip(listdir_src, listfile_clipsrc, listdir_dst):\r\n",
        "    Path(dir_dst).mkdir(parents=True, exist_ok=True)\r\n",
        "    for bandName in os.listdir(dir_src):\r\n",
        "        if 'band' in bandName: # sustituir esto por alguna funcion que busque en el metadata si es banda o no. Esto solo funciona para landsat\r\n",
        "            file_src = os.path.join(dir_src, bandName)\r\n",
        "            file_dst = os.path.join(dir_dst, bandName)\r\n",
        "\r\n",
        "            src_ras = gdal.Open(file_src, GA_Update)\r\n",
        "            ras = driver.CreateCopy(file_dst, src_ras, strict=0)\r\n",
        "            src_ras = None\r\n",
        "            \r\n",
        "            band = ras.GetRasterBand(1)\r\n",
        "            gdal.FillNodata(targetBand=band, maskBand=None, maxSearchDist = 20, smoothingIterations = 0) # Fills gaps\r\n",
        "            ras = None # unlink the file object and save the results. For gdal to write something to disk you need to flush/close the dataset.\r\n",
        "            clipRaster(file_dst, file_clipsrc, file_dst) # Clips raster\r\n",
        "\r\n",
        "# For increasing performance I could first clip the raster with a margin for performing fillNoData, then do fillNoData and then clip again to match Hyperion"
      ],
      "execution_count": null,
      "outputs": []
    },
    {
      "cell_type": "code",
      "metadata": {
        "id": "dcIAokq7-JQ4"
      },
      "source": [
        "# Directories\r\n",
        "listdir_src = os.getcwd() + '/drive/My Drive/TFG/Ciudad Real/EO-1 ALI/'\r\n",
        "listdir_dst = os.getcwd() + '/drive/My Drive/TFG/Ciudad Real/EO-1 ALI Processed/'\r\n",
        "\r\n",
        "listdir_dst = [os.path.join(listdir_dst, f, f[:-5]) for f in sorted(os.listdir(listdir_src))]\r\n",
        "listdir_src = [os.path.join(listdir_src, f, f[:-5]) for f in sorted(os.listdir(listdir_src))]\r\n",
        "\r\n",
        "listfile_clipsrc = os.getcwd() + '/drive/My Drive/TFG/Ciudad Real/EO-1 Hyperion/'\r\n",
        "listfile_clipsrc = [os.path.join(listfile_clipsrc, f, f[:-5], f[:-4]+'B008_L1GST.TIF') for f in sorted(os.listdir(listfile_clipsrc))]\r\n",
        "\r\n",
        "driver = gdal.GetDriverByName('GTiff')\r\n",
        "\r\n",
        "bandsToGet = ['B02', 'B03', 'B04', 'B05', 'B06', 'B07', 'B08', 'B09', 'B10']\r\n",
        "\r\n",
        "\r\n",
        "#=============[ PROCESSING OF EACH BAND: cropping ]================#\r\n",
        "#FOR USGS\r\n",
        "for dir_src, file_clipsrc, dir_dst in zip(listdir_src, listfile_clipsrc, listdir_dst):\r\n",
        "    Path(dir_dst).mkdir(parents=True, exist_ok=True)\r\n",
        "    for bandName in os.listdir(dir_src):\r\n",
        "        if any(b in bandName for b in bandsToGet):\r\n",
        "            file_src = os.path.join(dir_src, bandName)\r\n",
        "            file_dst = os.path.join(dir_dst, bandName)\r\n",
        "            clipRaster(file_src, file_clipsrc, file_dst) # Clips raster"
      ],
      "execution_count": null,
      "outputs": []
    },
    {
      "cell_type": "markdown",
      "metadata": {
        "id": "b1-JzYWm9d0j"
      },
      "source": [
        "## Example with data from Google Earth Engine (unfinished)"
      ]
    },
    {
      "cell_type": "code",
      "metadata": {
        "id": "ASZfAEbz9cxp"
      },
      "source": [
        "#FOR EARTH ENGINE\r\n",
        "\r\n",
        "dir_dst += 'LE07_144052_20140627.tif'\r\n",
        "clipRaster(dir_src, dir_clipsrc, dir_dst) # Clips raster\r\n",
        "#tropt = gdal.TranslateOptions(noData=0., bandList=[1,2,3,4,5,6], format=\"GTiff\")\r\n",
        "#gdal.Translate(dir_dst, dir_dst, options=tropt)\r\n",
        "directory = 'drive/MyDrive/TFG/Karnataka_20scenes/Landsat 7 Processed/Not masked'\r\n",
        "#%cd drive/MyDrive/TFG/Karnataka_20scenes/Landsat 7 Processed/Masked\r\n",
        "#!gdal_translate -of GTiff -a_nodata 0 LE07_144052_20140627.tif LE07_144052_20140627_wNoData.tif\r\n",
        "\r\n",
        "dir_dst = os.getcwd() + '/drive/My Drive/TFG/Karnataka_20scenes/Landsat 7 Processed/Not masked/LE07_144052_20140627.tif'\r\n",
        "\r\n",
        "\r\n",
        "ras = gdal.Open(dir_dst, GA_Update)\r\n",
        "for i in range(1,7):\r\n",
        "    band = ras.GetRasterBand(i)\r\n",
        "    bandarr = band.ReadAsArray()\r\n",
        "    gdal.FillNodata(targetBand=band, maskBand=None, maxSearchDist = 40, smoothingIterations = 0) # Fills gaps\r\n",
        "    band=None\r\n",
        "ras = None\r\n",
        "\r\n",
        "\r\n",
        "\r\n",
        "im = gdal.Open(dir_dst, GA_Update)\r\n",
        "r = im.GetRasterBand(3).ReadAsArray()\r\n",
        "g = im.GetRasterBand(2).ReadAsArray()\r\n",
        "b = im.GetRasterBand(1).ReadAsArray()\r\n",
        "plt.hist(r.flatten(), bins=200)\r\n",
        "plt.show()\r\n",
        "rgb = normalize_bands([r,g,b])\r\n",
        "plt.hist(rgb[0].flatten(), bins=200)\r\n",
        "plt.show()\r\n",
        "viz_raster(rgb[0], rgb[1], rgb[2])\r\n"
      ],
      "execution_count": null,
      "outputs": []
    }
  ]
}